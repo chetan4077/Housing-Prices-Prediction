{
 "cells": [
  {
   "cell_type": "code",
   "execution_count": 1,
   "id": "bd69d93c",
   "metadata": {},
   "outputs": [],
   "source": [
    "# importing libraries\n",
    "import numpy as np\n",
    "import pandas as pd\n",
    "import seaborn as sns\n",
    "import matplotlib.pyplot as plt"
   ]
  },
  {
   "cell_type": "code",
   "execution_count": 2,
   "id": "229cd058",
   "metadata": {},
   "outputs": [
    {
     "data": {
      "text/plain": [
       "(1460, 81)"
      ]
     },
     "execution_count": 2,
     "metadata": {},
     "output_type": "execute_result"
    }
   ],
   "source": [
    "# importing data\n",
    "data=pd.read_csv(\"data/train.csv\")\n",
    "data.shape"
   ]
  },
  {
   "cell_type": "code",
   "execution_count": 3,
   "id": "3e9df3d7",
   "metadata": {},
   "outputs": [
    {
     "data": {
      "application/vnd.microsoft.datawrangler.viewer.v0+json": {
       "columns": [
        {
         "name": "index",
         "rawType": "object",
         "type": "string"
        },
        {
         "name": "0",
         "rawType": "int64",
         "type": "integer"
        }
       ],
       "ref": "b0d94e51-d6fb-4d86-8db5-347f4b1e981b",
       "rows": [
        [
         "Id",
         "0"
        ],
        [
         "MSSubClass",
         "0"
        ],
        [
         "MSZoning",
         "0"
        ],
        [
         "LotFrontage",
         "259"
        ],
        [
         "LotArea",
         "0"
        ],
        [
         "Street",
         "0"
        ],
        [
         "Alley",
         "1369"
        ],
        [
         "LotShape",
         "0"
        ],
        [
         "LandContour",
         "0"
        ],
        [
         "Utilities",
         "0"
        ],
        [
         "LotConfig",
         "0"
        ],
        [
         "LandSlope",
         "0"
        ],
        [
         "Neighborhood",
         "0"
        ],
        [
         "Condition1",
         "0"
        ],
        [
         "Condition2",
         "0"
        ],
        [
         "BldgType",
         "0"
        ],
        [
         "HouseStyle",
         "0"
        ],
        [
         "OverallQual",
         "0"
        ],
        [
         "OverallCond",
         "0"
        ],
        [
         "YearBuilt",
         "0"
        ],
        [
         "YearRemodAdd",
         "0"
        ],
        [
         "RoofStyle",
         "0"
        ],
        [
         "RoofMatl",
         "0"
        ],
        [
         "Exterior1st",
         "0"
        ],
        [
         "Exterior2nd",
         "0"
        ],
        [
         "MasVnrType",
         "872"
        ],
        [
         "MasVnrArea",
         "8"
        ],
        [
         "ExterQual",
         "0"
        ],
        [
         "ExterCond",
         "0"
        ],
        [
         "Foundation",
         "0"
        ],
        [
         "BsmtQual",
         "37"
        ],
        [
         "BsmtCond",
         "37"
        ],
        [
         "BsmtExposure",
         "38"
        ],
        [
         "BsmtFinType1",
         "37"
        ],
        [
         "BsmtFinSF1",
         "0"
        ],
        [
         "BsmtFinType2",
         "38"
        ],
        [
         "BsmtFinSF2",
         "0"
        ],
        [
         "BsmtUnfSF",
         "0"
        ],
        [
         "TotalBsmtSF",
         "0"
        ],
        [
         "Heating",
         "0"
        ],
        [
         "HeatingQC",
         "0"
        ],
        [
         "CentralAir",
         "0"
        ],
        [
         "Electrical",
         "1"
        ],
        [
         "1stFlrSF",
         "0"
        ],
        [
         "2ndFlrSF",
         "0"
        ],
        [
         "LowQualFinSF",
         "0"
        ],
        [
         "GrLivArea",
         "0"
        ],
        [
         "BsmtFullBath",
         "0"
        ],
        [
         "BsmtHalfBath",
         "0"
        ],
        [
         "FullBath",
         "0"
        ]
       ],
       "shape": {
        "columns": 1,
        "rows": 81
       }
      },
      "text/plain": [
       "Id                 0\n",
       "MSSubClass         0\n",
       "MSZoning           0\n",
       "LotFrontage      259\n",
       "LotArea            0\n",
       "                ... \n",
       "MoSold             0\n",
       "YrSold             0\n",
       "SaleType           0\n",
       "SaleCondition      0\n",
       "SalePrice          0\n",
       "Length: 81, dtype: int64"
      ]
     },
     "execution_count": 3,
     "metadata": {},
     "output_type": "execute_result"
    }
   ],
   "source": [
    "data.isnull().sum()"
   ]
  },
  {
   "cell_type": "code",
   "execution_count": null,
   "id": "1619c78d",
   "metadata": {},
   "outputs": [],
   "source": []
  }
 ],
 "metadata": {
  "kernelspec": {
   "display_name": "Python 3",
   "language": "python",
   "name": "python3"
  },
  "language_info": {
   "codemirror_mode": {
    "name": "ipython",
    "version": 3
   },
   "file_extension": ".py",
   "mimetype": "text/x-python",
   "name": "python",
   "nbconvert_exporter": "python",
   "pygments_lexer": "ipython3",
   "version": "3.13.0"
  }
 },
 "nbformat": 4,
 "nbformat_minor": 5
}
