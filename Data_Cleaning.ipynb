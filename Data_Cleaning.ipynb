{
 "cells": [
  {
   "cell_type": "code",
   "execution_count": 2,
   "id": "bd69d93c",
   "metadata": {},
   "outputs": [],
   "source": [
    "# importing libraries\n",
    "import numpy as np\n",
    "import pandas as pd\n",
    "import seaborn as sns\n",
    "import matplotlib.pyplot as plt"
   ]
  },
  {
   "cell_type": "code",
   "execution_count": 3,
   "id": "229cd058",
   "metadata": {},
   "outputs": [
    {
     "data": {
      "text/plain": [
       "(1451, 183)"
      ]
     },
     "execution_count": 3,
     "metadata": {},
     "output_type": "execute_result"
    }
   ],
   "source": [
    "# importing data\n",
    "df=pd.read_csv(\"data/train.csv\")\n",
    "df.shape"
   ]
  },
  {
   "cell_type": "code",
   "execution_count": 3,
   "id": "3e9df3d7",
   "metadata": {},
   "outputs": [
    {
     "data": {
      "application/vnd.microsoft.datawrangler.viewer.v0+json": {
       "columns": [
        {
         "name": "index",
         "rawType": "object",
         "type": "string"
        },
        {
         "name": "0",
         "rawType": "int64",
         "type": "integer"
        }
       ],
       "ref": "d2677685-09d0-422f-ae9d-e1ee067e7234",
       "rows": [
        [
         "Id",
         "0"
        ],
        [
         "MSSubClass",
         "0"
        ],
        [
         "MSZoning",
         "0"
        ],
        [
         "LotFrontage",
         "259"
        ],
        [
         "LotArea",
         "0"
        ],
        [
         "Street",
         "0"
        ],
        [
         "Alley",
         "1369"
        ],
        [
         "LotShape",
         "0"
        ],
        [
         "LandContour",
         "0"
        ],
        [
         "Utilities",
         "0"
        ],
        [
         "LotConfig",
         "0"
        ],
        [
         "LandSlope",
         "0"
        ],
        [
         "Neighborhood",
         "0"
        ],
        [
         "Condition1",
         "0"
        ],
        [
         "Condition2",
         "0"
        ],
        [
         "BldgType",
         "0"
        ],
        [
         "HouseStyle",
         "0"
        ],
        [
         "OverallQual",
         "0"
        ],
        [
         "OverallCond",
         "0"
        ],
        [
         "YearBuilt",
         "0"
        ],
        [
         "YearRemodAdd",
         "0"
        ],
        [
         "RoofStyle",
         "0"
        ],
        [
         "RoofMatl",
         "0"
        ],
        [
         "Exterior1st",
         "0"
        ],
        [
         "Exterior2nd",
         "0"
        ],
        [
         "MasVnrType",
         "872"
        ],
        [
         "MasVnrArea",
         "8"
        ],
        [
         "ExterQual",
         "0"
        ],
        [
         "ExterCond",
         "0"
        ],
        [
         "Foundation",
         "0"
        ],
        [
         "BsmtQual",
         "37"
        ],
        [
         "BsmtCond",
         "37"
        ],
        [
         "BsmtExposure",
         "38"
        ],
        [
         "BsmtFinType1",
         "37"
        ],
        [
         "BsmtFinSF1",
         "0"
        ],
        [
         "BsmtFinType2",
         "38"
        ],
        [
         "BsmtFinSF2",
         "0"
        ],
        [
         "BsmtUnfSF",
         "0"
        ],
        [
         "TotalBsmtSF",
         "0"
        ],
        [
         "Heating",
         "0"
        ],
        [
         "HeatingQC",
         "0"
        ],
        [
         "CentralAir",
         "0"
        ],
        [
         "Electrical",
         "1"
        ],
        [
         "1stFlrSF",
         "0"
        ],
        [
         "2ndFlrSF",
         "0"
        ],
        [
         "LowQualFinSF",
         "0"
        ],
        [
         "GrLivArea",
         "0"
        ],
        [
         "BsmtFullBath",
         "0"
        ],
        [
         "BsmtHalfBath",
         "0"
        ],
        [
         "FullBath",
         "0"
        ]
       ],
       "shape": {
        "columns": 1,
        "rows": 81
       }
      },
      "text/plain": [
       "Id                 0\n",
       "MSSubClass         0\n",
       "MSZoning           0\n",
       "LotFrontage      259\n",
       "LotArea            0\n",
       "                ... \n",
       "MoSold             0\n",
       "YrSold             0\n",
       "SaleType           0\n",
       "SaleCondition      0\n",
       "SalePrice          0\n",
       "Length: 81, dtype: int64"
      ]
     },
     "execution_count": 3,
     "metadata": {},
     "output_type": "execute_result"
    }
   ],
   "source": [
    "df.isnull().sum()"
   ]
  },
  {
   "cell_type": "markdown",
   "id": "a623e6bc",
   "metadata": {},
   "source": [
    "## Handling Missing Data"
   ]
  },
  {
   "cell_type": "code",
   "execution_count": null,
   "id": "2bb12082",
   "metadata": {},
   "outputs": [],
   "source": [
    "import pandas as pd\n",
    "\n",
    "def clean_data(df):\n",
    "    # Replace missing values with the median of each column in: 'LotFrontage'\n",
    "    df = df.fillna({'LotFrontage': df['LotFrontage'].median()})\n",
    "    # Change column type to int32 for column: 'LotFrontage'\n",
    "    df = df.astype({'LotFrontage': 'int32'})\n",
    "    # One-hot encode column: 'Alley'\n",
    "    insert_loc = df.columns.get_loc('Alley')\n",
    "    df = pd.concat([df.iloc[:,:insert_loc], pd.get_dummies(df.loc[:, ['Alley']], dummy_na=True), df.iloc[:,insert_loc+1:]], axis=1)\n",
    "    df['Alley_Grvl'] = df['Alley_Grvl'].astype(int)\n",
    "    df['Alley_Pave'] = df['Alley_Grvl'].astype(int)\n",
    "    df['Alley_nan'] = df['Alley_Grvl'].astype(int)\n",
    "    # Replace missing values with \"None\" in column: 'MasVnrType'\n",
    "    df = df.fillna({'MasVnrType': \"None\"})\n",
    "    # Drop rows with missing data in column: 'MasVnrArea'\n",
    "    df = df.dropna(subset=['MasVnrArea'])\n",
    "    df['BsmtQual'] = df['BsmtQual'].fillna('NA')\n",
    "    df['BsmtCond'] = df['BsmtCond'].fillna('NA')\n",
    "    df['BsmtExposure'] = df['BsmtExposure'].fillna('NA')\n",
    "    df['BsmtFinType1'] = df['BsmtFinType1'].fillna('NA')\n",
    "    df['BsmtFinType2'] = df['BsmtFinType2'].fillna('NA')\n",
    "    # Drop rows with missing data in column: 'Electrical'\n",
    "    df = df.dropna(subset=['Electrical'])\n",
    "    df['FireplaceQu'] = df['FireplaceQu'].fillna('NA')\n",
    "    # Replace missing values with \"NA\" in column: 'GarageType'\n",
    "    df = df.fillna({'GarageType': \"NA\"})\n",
    "    # Replace missing values with 0 in column: 'GarageYrBlt'\n",
    "    df = df.fillna({'GarageYrBlt': 0})\n",
    "    # Replace missing values with \"NA\" in column: 'GarageFinish'\n",
    "    df = df.fillna({'GarageFinish': \"NA\"})\n",
    "    # Replace missing values with \"NA\" in column: 'GarageQual'\n",
    "    df = df.fillna({'GarageQual': \"NA\"})\n",
    "    # Replace missing values with \"NA\" in column: 'GarageCond'\n",
    "    df = df.fillna({'GarageCond': \"NA\"})\n",
    "    # Replace missing values with \"NA\" in column: 'PoolQC'\n",
    "    df = df.fillna({'PoolQC': \"NA\"})\n",
    "    # Replace missing values with \"NA\" in column: 'Fence'\n",
    "    df = df.fillna({'Fence': \"NA\"})\n",
    "    # Replace missing values with \"NA\" in column: 'MiscFeature'\n",
    "    df = df.fillna({'MiscFeature': \"NA\"})\n",
    "    return df\n",
    "\n",
    "df = clean_data(df.copy())"
   ]
  },
  {
   "cell_type": "code",
   "execution_count": 5,
   "id": "441cd6d0",
   "metadata": {},
   "outputs": [],
   "source": [
    "df.to_csv(\"data/train.csv\")"
   ]
  },
  {
   "cell_type": "markdown",
   "id": "d58e59ab",
   "metadata": {},
   "source": [
    "## Encoding Data"
   ]
  },
  {
   "cell_type": "code",
   "execution_count": null,
   "id": "5db3b135",
   "metadata": {},
   "outputs": [],
   "source": [
    "import pandas as pd\n",
    "\n",
    "def clean_data(df):\n",
    "    # One-hot encode column: 'MSZoning'\n",
    "    insert_loc = df.columns.get_loc('MSZoning')\n",
    "    df = pd.concat([df.iloc[:,:insert_loc], pd.get_dummies(df.loc[:, ['MSZoning']], dummy_na=True), df.iloc[:,insert_loc+1:]], axis=1)\n",
    "    # Drop column: 'MSZoning_C (all)'\n",
    "    df = df.drop(columns=['MSZoning_C (all)'])\n",
    "    # Change column type to int32 for columns: 'MSZoning_FV', 'MSZoning_RH' and 3 other columns\n",
    "    df = df.astype({'MSZoning_FV': 'int32', 'MSZoning_RH': 'int32', 'MSZoning_RL': 'int32', 'MSZoning_RM': 'int32', 'MSZoning_nan': 'int32'})\n",
    "    # One-hot encode column: 'Street'\n",
    "    insert_loc = df.columns.get_loc('Street')\n",
    "    df = pd.concat([df.iloc[:,:insert_loc], pd.get_dummies(df.loc[:, ['Street']], dummy_na=True), df.iloc[:,insert_loc+1:]], axis=1)\n",
    "    # Change column type to int32 for column: 'Street_Pave'\n",
    "    df = df.astype({'Street_Pave': 'int32'})\n",
    "    # Change column type to int32 for column: 'Street_Grvl'\n",
    "    df = df.astype({'Street_Grvl': 'int32'})\n",
    "    # Drop column: 'Street_nan'\n",
    "    df = df.drop(columns=['Street_nan'])\n",
    "    df['LotShape'] = df['LotShape'].map({'IR3': 0, 'IR2': 1, 'IR1': 2, 'Reg': 3})\n",
    "    # One-hot encode columns: 'Utilities', 'LotConfig'\n",
    "    for column in ['Utilities', 'LotConfig']:\n",
    "        insert_loc = df.columns.get_loc(column)\n",
    "        df = pd.concat([df.iloc[:,:insert_loc], pd.get_dummies(df.loc[:, [column]], dummy_na=True), df.iloc[:,insert_loc+1:]], axis=1)\n",
    "    # Change column type to int32 for column: 'Utilities_AllPub'\n",
    "    df = df.astype({'Utilities_AllPub': 'int32'})\n",
    "    # Change column type to int32 for column: 'Utilities_NoSeWa'\n",
    "    df = df.astype({'Utilities_NoSeWa': 'int32'})\n",
    "    # Change column type to int32 for column: 'Utilities_nan'\n",
    "    df = df.astype({'Utilities_nan': 'int32'})\n",
    "    # Change column type to int32 for column: 'LotConfig_Corner'\n",
    "    df = df.astype({'LotConfig_Corner': 'int32'})\n",
    "    # Change column type to object for column: 'LotConfig_CulDSac'\n",
    "    df = df.astype({'LotConfig_CulDSac': 'int32','LotConfig_FR3': 'int32','LotConfig_Inside': 'int32','LotConfig_nan': 'int32'})\n",
    "    # Change column type to object for column: 'LotConfig_FR2'\n",
    "    df = df.astype({'LotConfig_FR2': 'int32'})\n",
    "    df['LandSlope'] = df['LandSlope'].map({'Sev': 0, 'Mod': 1, 'Gtl': 2})\n",
    "    df['Neighborhood_grouped'] = df['Neighborhood'].apply(lambda x: x if x in df['Neighborhood'].value_counts().head(10).index else 'Others')\n",
    "    df = pd.get_dummies(df, columns=['Neighborhood_grouped'], prefix='Neighborhood', dtype=int)\n",
    "    df = df.drop('Neighborhood', axis=1)\n",
    "    df['LandContour'] = df['LandContour'].map({'Low': 0, 'HLS': 1, 'Bnk': 2, 'Lvl': 3})\n",
    "    df = pd.get_dummies(df, columns=['Condition1'], prefix='Condition1', dtype=int)\n",
    "    df = pd.get_dummies(df, columns=['Condition2'], prefix='Condition2', dtype=int)\n",
    "    for col in ['Artery', 'Feedr', 'Norm', 'RRNn', 'RRAn', 'PosN', 'PosA', 'RRNe', 'RRAe']: df[f'Condition_{col}'] = df.get(f'Condition1_{col}', 0) + df.get(f'Condition2_{col}', 0)\n",
    "    df = df.drop([col for col in df.columns if col.startswith('Condition1_') or col.startswith('Condition2_')], axis=1)\n",
    "    # One-hot encode BldgType and HouseStyle, then drop them\n",
    "    df = pd.get_dummies(df, columns=['BldgType', 'HouseStyle'], drop_first=True)\n",
    "    df = pd.get_dummies(df, columns=['Exterior1st'], prefix='Exterior1st', dtype=int)\n",
    "    df = pd.get_dummies(df, columns=['Exterior2nd'], prefix='Exterior2nd', dtype=int)\n",
    "    for col in ['AsbShng', 'AsphShn', 'BrkComm', 'BrkFace', 'CBlock', 'CemntBd', 'HdBoard', 'ImStucc', 'MetalSd', 'Other', 'Plywood', 'PreCast', 'Stone', 'Stucco', 'VinylSd', 'Wd Sdng', 'WdShing']: df[f'Exterior_{col}'] = df.get(f'Exterior1st_{col}', 0) + df.get(f'Exterior2nd_{col}', 0)\n",
    "    df = df.drop([col for col in df.columns if col.startswith('Exterior1st_') or col.startswith('Exterior2nd_')], axis=1)\n",
    "    df = pd.get_dummies(df, columns=['RoofStyle', 'RoofMatl'], dtype=int)\n",
    "    df = pd.get_dummies(df, columns=['MasVnrType'], dtype=int)\n",
    "    df['ExterQual'] = df['ExterQual'].map({'Po': 1, 'Fa': 2, 'TA': 3, 'Gd': 4, 'Ex': 5})\n",
    "    df['ExterCond'] = df['ExterCond'].map({'Po': 1, 'Fa': 2, 'TA': 3, 'Gd': 4, 'Ex': 5})\n",
    "    df['ExteriorRating'] = df['ExterQual'] + df['ExterCond']\n",
    "    df = df.drop(['ExterQual', 'ExterCond'], axis=1)\n",
    "    df['BsmtQual'] = df['BsmtQual'].map({'NA': 0, 'Po': 1, 'Fa': 2, 'TA': 3, 'Gd': 4, 'Ex': 5})\n",
    "    df['BsmtCond'] = df['BsmtCond'].map({'NA': 0, 'Po': 1, 'Fa': 2, 'TA': 3, 'Gd': 4, 'Ex': 5})\n",
    "    df['BsmtQual'] = df['BsmtQual'].fillna(0).astype(int)\n",
    "    df['BsmtCond'] = df['BsmtCond'].fillna(0).astype(int)\n",
    "    df['BsmtQual'] = df.apply(lambda row: 0 if row['BsmtCond'] == 0 else row['BsmtQual'], axis=1)\n",
    "    df['BsmtCond'] = df.apply(lambda row: 0 if row['BsmtQual'] == 0 else row['BsmtCond'], axis=1)\n",
    "    df['BasementRating'] = df['BsmtQual'] + df['BsmtCond']\n",
    "    df = df.drop(['BsmtQual', 'BsmtCond'], axis=1)\n",
    "    df = pd.get_dummies(df, columns=['Foundation'], dtype=int)\n",
    "    # Drop columns: 'BsmtExposure', 'BsmtFinType1', 'BsmtFinType2'\n",
    "    df = df.drop(columns=['BsmtExposure', 'BsmtFinType1', 'BsmtFinType2'])\n",
    "    # Change column type to int32 for columns: 'BldgType_2fmCon', 'BldgType_Duplex' and 9 other columns\n",
    "    df = df.astype({'BldgType_2fmCon': 'int32', 'BldgType_Duplex': 'int32', 'BldgType_Twnhs': 'int32', 'BldgType_TwnhsE': 'int32', 'HouseStyle_1.5Unf': 'int32', 'HouseStyle_1Story': 'int32', 'HouseStyle_2.5Fin': 'int32', 'HouseStyle_2.5Unf': 'int32', 'HouseStyle_2Story': 'int32', 'HouseStyle_SFoyer': 'int32', 'HouseStyle_SLvl': 'int32'})\n",
    "    df = pd.get_dummies(df, columns=['Heating'], dtype=int)\n",
    "    df['HeatingQC'] = df['HeatingQC'].map({'Po': 0, 'Fa': 1, 'TA': 2, 'Gd': 3, 'Ex': 4})\n",
    "    df['CentralAir'] = df['CentralAir'].map({'N': 0, 'Y': 1})\n",
    "    # One-hot encode column: 'Electrical'\n",
    "    insert_loc = df.columns.get_loc('Electrical')\n",
    "    df = pd.concat([df.iloc[:,:insert_loc], pd.get_dummies(df.loc[:, ['Electrical']], dtype=int), df.iloc[:,insert_loc+1:]], axis=1)\n",
    "    df['KitchenQual'] = df['KitchenQual'].map({'Po': 0, 'Fa': 1, 'TA': 2, 'Gd': 3, 'Ex': 4})\n",
    "    df['Functional'] = df['Functional'].map({'Sal': 0, 'Sev': 1, 'Maj2': 2, 'Maj1': 3, 'Mod': 4, 'Min2': 5, 'Min1': 6, 'Typ': 7})\n",
    "    df['FireplaceQu'] = df['FireplaceQu'].map({'NA': 0, 'Po': 1, 'Fa': 2, 'TA': 3, 'Gd': 4, 'Ex': 5})\n",
    "    df = pd.get_dummies(df, columns=['GarageType'], dtype=int)\n",
    "    # Change column type to int32 for column: 'GarageYrBlt'\n",
    "    df = df.astype({'GarageYrBlt': 'int32'})\n",
    "    df['GarageFinish'] = df['GarageFinish'].map({'NA': 0, 'Unf': 1, 'RFn': 2, 'Fin': 3})\n",
    "    df['GarageQual'] = df['GarageQual'].map({'NA': 0, 'Po': 1, 'Fa': 2, 'TA': 3, 'Gd': 4, 'Ex': 5})\n",
    "    df['GarageCond'] = df['GarageCond'].map({'NA': 0, 'Po': 1, 'Fa': 2, 'TA': 3, 'Gd': 4, 'Ex': 5})\n",
    "    df['GarageRating'] = df['GarageQual'] + df['GarageCond']\n",
    "    df = df.drop(['GarageQual', 'GarageCond'], axis=1)\n",
    "    # Map 'PavedDrive' values and handle NaN\n",
    "    df['PavedDrive'] = df['PavedDrive'].map({'N': 0, 'Y': 1}).fillna(0).astype(int)\n",
    "    df['Fence'] = df['Fence'].map({'NA': 0, 'MnWw': 1, 'GdWo': 2, 'MnPrv': 3, 'GdPrv': 4})\n",
    "    df = pd.get_dummies(df, columns=['MiscFeature'], dtype=int)\n",
    "    df['PoolQC'] = df['PoolQC'].map({'NA': 0, 'Fa': 1, 'TA': 2, 'Gd': 3, 'Ex': 4})\n",
    "    df = pd.get_dummies(df, columns=['SaleType'], dtype=int)\n",
    "    df = pd.get_dummies(df, columns=['SaleCondition'], dtype=int)\n",
    "    # Invert values in 'Alley_nan' column\n",
    "    df['Alley_nan'] = df['Alley_nan'].apply(lambda x: 1 if x == 0 else 0)\n",
    "    # Drop column: 'Utilities_nan'\n",
    "    df = df.drop(columns=['Utilities_nan'])\n",
    "    # Drop column: 'LotConfig_nan'\n",
    "    df = df.drop(columns=['LotConfig_nan'])\n",
    "    # Change column type to int64 for column: 'MasVnrArea'\n",
    "    df = df.astype({'MasVnrArea': 'int64'})\n",
    "    return df\n",
    "\n",
    "df = clean_data(df.copy())"
   ]
  },
  {
   "cell_type": "code",
   "execution_count": null,
   "id": "d8d65371",
   "metadata": {},
   "outputs": [],
   "source": [
    "int_cols = df.select_dtypes(include=['int32']).columns\n",
    "df[int_cols] = df[int_cols].astype('int64')"
   ]
  },
  {
   "cell_type": "code",
   "execution_count": 5,
   "id": "52577b7a",
   "metadata": {},
   "outputs": [],
   "source": [
    "df.to_csv(\"data/train.csv\")"
   ]
  }
 ],
 "metadata": {
  "kernelspec": {
   "display_name": "Python 3",
   "language": "python",
   "name": "python3"
  },
  "language_info": {
   "codemirror_mode": {
    "name": "ipython",
    "version": 3
   },
   "file_extension": ".py",
   "mimetype": "text/x-python",
   "name": "python",
   "nbconvert_exporter": "python",
   "pygments_lexer": "ipython3",
   "version": "3.13.0"
  }
 },
 "nbformat": 4,
 "nbformat_minor": 5
}
