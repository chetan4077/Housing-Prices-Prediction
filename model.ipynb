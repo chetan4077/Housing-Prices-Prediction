{
 "cells": [
  {
   "cell_type": "markdown",
   "id": "e0bc631d",
   "metadata": {},
   "source": [
    "### Decision Trees\n"
   ]
  },
  {
   "cell_type": "code",
   "execution_count": 4,
   "id": "52e6984c",
   "metadata": {},
   "outputs": [],
   "source": [
    "# importing libraries\n",
    "import numpy as np\n",
    "import pandas as pd\n",
    "import seaborn as sns\n",
    "import matplotlib.pyplot as plt\n",
    "from sklearn.tree import DecisionTreeRegressor, export_text, plot_tree\n",
    "from sklearn.ensemble import RandomForestRegressor\n",
    "from sklearn.model_selection import train_test_split\n",
    "from sklearn.metrics import mean_absolute_error, mean_squared_error, r2_score"
   ]
  },
  {
   "cell_type": "code",
   "execution_count": 5,
   "id": "c32e1c85",
   "metadata": {},
   "outputs": [
    {
     "data": {
      "application/vnd.microsoft.datawrangler.viewer.v0+json": {
       "columns": [
        {
         "name": "index",
         "rawType": "int64",
         "type": "integer"
        },
        {
         "name": "Unnamed: 0.1",
         "rawType": "int64",
         "type": "integer"
        },
        {
         "name": "Unnamed: 0",
         "rawType": "int64",
         "type": "integer"
        },
        {
         "name": "Id",
         "rawType": "int64",
         "type": "integer"
        },
        {
         "name": "MSSubClass",
         "rawType": "int64",
         "type": "integer"
        },
        {
         "name": "MSZoning_FV",
         "rawType": "int64",
         "type": "integer"
        },
        {
         "name": "MSZoning_RH",
         "rawType": "int64",
         "type": "integer"
        },
        {
         "name": "MSZoning_RL",
         "rawType": "int64",
         "type": "integer"
        },
        {
         "name": "MSZoning_RM",
         "rawType": "int64",
         "type": "integer"
        },
        {
         "name": "MSZoning_nan",
         "rawType": "int64",
         "type": "integer"
        },
        {
         "name": "LotFrontage",
         "rawType": "int64",
         "type": "integer"
        },
        {
         "name": "LotArea",
         "rawType": "int64",
         "type": "integer"
        },
        {
         "name": "Street_Grvl",
         "rawType": "int64",
         "type": "integer"
        },
        {
         "name": "Street_Pave",
         "rawType": "int64",
         "type": "integer"
        },
        {
         "name": "Alley_Grvl",
         "rawType": "int64",
         "type": "integer"
        },
        {
         "name": "Alley_Pave",
         "rawType": "int64",
         "type": "integer"
        },
        {
         "name": "Alley_nan",
         "rawType": "int64",
         "type": "integer"
        },
        {
         "name": "LotShape",
         "rawType": "int64",
         "type": "integer"
        },
        {
         "name": "LandContour",
         "rawType": "int64",
         "type": "integer"
        },
        {
         "name": "Utilities_AllPub",
         "rawType": "int64",
         "type": "integer"
        },
        {
         "name": "Utilities_NoSeWa",
         "rawType": "int64",
         "type": "integer"
        },
        {
         "name": "LotConfig_Corner",
         "rawType": "int64",
         "type": "integer"
        },
        {
         "name": "LotConfig_CulDSac",
         "rawType": "int64",
         "type": "integer"
        },
        {
         "name": "LotConfig_FR2",
         "rawType": "int64",
         "type": "integer"
        },
        {
         "name": "LotConfig_FR3",
         "rawType": "int64",
         "type": "integer"
        },
        {
         "name": "LotConfig_Inside",
         "rawType": "int64",
         "type": "integer"
        },
        {
         "name": "LandSlope",
         "rawType": "int64",
         "type": "integer"
        },
        {
         "name": "OverallQual",
         "rawType": "int64",
         "type": "integer"
        },
        {
         "name": "OverallCond",
         "rawType": "int64",
         "type": "integer"
        },
        {
         "name": "YearBuilt",
         "rawType": "int64",
         "type": "integer"
        },
        {
         "name": "YearRemodAdd",
         "rawType": "int64",
         "type": "integer"
        },
        {
         "name": "MasVnrArea",
         "rawType": "int64",
         "type": "integer"
        },
        {
         "name": "BsmtFinSF1",
         "rawType": "int64",
         "type": "integer"
        },
        {
         "name": "BsmtFinSF2",
         "rawType": "int64",
         "type": "integer"
        },
        {
         "name": "BsmtUnfSF",
         "rawType": "int64",
         "type": "integer"
        },
        {
         "name": "TotalBsmtSF",
         "rawType": "int64",
         "type": "integer"
        },
        {
         "name": "HeatingQC",
         "rawType": "int64",
         "type": "integer"
        },
        {
         "name": "CentralAir",
         "rawType": "int64",
         "type": "integer"
        },
        {
         "name": "Electrical_FuseA",
         "rawType": "int64",
         "type": "integer"
        },
        {
         "name": "Electrical_FuseF",
         "rawType": "int64",
         "type": "integer"
        },
        {
         "name": "Electrical_FuseP",
         "rawType": "int64",
         "type": "integer"
        },
        {
         "name": "Electrical_Mix",
         "rawType": "int64",
         "type": "integer"
        },
        {
         "name": "Electrical_SBrkr",
         "rawType": "int64",
         "type": "integer"
        },
        {
         "name": "1stFlrSF",
         "rawType": "int64",
         "type": "integer"
        },
        {
         "name": "2ndFlrSF",
         "rawType": "int64",
         "type": "integer"
        },
        {
         "name": "LowQualFinSF",
         "rawType": "int64",
         "type": "integer"
        },
        {
         "name": "GrLivArea",
         "rawType": "int64",
         "type": "integer"
        },
        {
         "name": "BsmtFullBath",
         "rawType": "int64",
         "type": "integer"
        },
        {
         "name": "BsmtHalfBath",
         "rawType": "int64",
         "type": "integer"
        },
        {
         "name": "FullBath",
         "rawType": "int64",
         "type": "integer"
        },
        {
         "name": "HalfBath",
         "rawType": "int64",
         "type": "integer"
        },
        {
         "name": "BedroomAbvGr",
         "rawType": "int64",
         "type": "integer"
        },
        {
         "name": "KitchenAbvGr",
         "rawType": "int64",
         "type": "integer"
        },
        {
         "name": "KitchenQual",
         "rawType": "int64",
         "type": "integer"
        },
        {
         "name": "TotRmsAbvGrd",
         "rawType": "int64",
         "type": "integer"
        },
        {
         "name": "Functional",
         "rawType": "int64",
         "type": "integer"
        },
        {
         "name": "Fireplaces",
         "rawType": "int64",
         "type": "integer"
        },
        {
         "name": "FireplaceQu",
         "rawType": "int64",
         "type": "integer"
        },
        {
         "name": "GarageYrBlt",
         "rawType": "int64",
         "type": "integer"
        },
        {
         "name": "GarageFinish",
         "rawType": "int64",
         "type": "integer"
        },
        {
         "name": "GarageCars",
         "rawType": "int64",
         "type": "integer"
        },
        {
         "name": "GarageArea",
         "rawType": "int64",
         "type": "integer"
        },
        {
         "name": "PavedDrive",
         "rawType": "int64",
         "type": "integer"
        },
        {
         "name": "WoodDeckSF",
         "rawType": "int64",
         "type": "integer"
        },
        {
         "name": "OpenPorchSF",
         "rawType": "int64",
         "type": "integer"
        },
        {
         "name": "EnclosedPorch",
         "rawType": "int64",
         "type": "integer"
        },
        {
         "name": "3SsnPorch",
         "rawType": "int64",
         "type": "integer"
        },
        {
         "name": "ScreenPorch",
         "rawType": "int64",
         "type": "integer"
        },
        {
         "name": "PoolArea",
         "rawType": "int64",
         "type": "integer"
        },
        {
         "name": "PoolQC",
         "rawType": "int64",
         "type": "integer"
        },
        {
         "name": "Fence",
         "rawType": "int64",
         "type": "integer"
        },
        {
         "name": "MiscVal",
         "rawType": "int64",
         "type": "integer"
        },
        {
         "name": "MoSold",
         "rawType": "int64",
         "type": "integer"
        },
        {
         "name": "YrSold",
         "rawType": "int64",
         "type": "integer"
        },
        {
         "name": "SalePrice",
         "rawType": "int64",
         "type": "integer"
        },
        {
         "name": "Neighborhood_BrkSide",
         "rawType": "int64",
         "type": "integer"
        },
        {
         "name": "Neighborhood_CollgCr",
         "rawType": "int64",
         "type": "integer"
        },
        {
         "name": "Neighborhood_Edwards",
         "rawType": "int64",
         "type": "integer"
        },
        {
         "name": "Neighborhood_Gilbert",
         "rawType": "int64",
         "type": "integer"
        },
        {
         "name": "Neighborhood_NAmes",
         "rawType": "int64",
         "type": "integer"
        },
        {
         "name": "Neighborhood_NWAmes",
         "rawType": "int64",
         "type": "integer"
        },
        {
         "name": "Neighborhood_NridgHt",
         "rawType": "int64",
         "type": "integer"
        },
        {
         "name": "Neighborhood_OldTown",
         "rawType": "int64",
         "type": "integer"
        },
        {
         "name": "Neighborhood_Others",
         "rawType": "int64",
         "type": "integer"
        },
        {
         "name": "Neighborhood_Sawyer",
         "rawType": "int64",
         "type": "integer"
        },
        {
         "name": "Neighborhood_Somerst",
         "rawType": "int64",
         "type": "integer"
        },
        {
         "name": "Condition_Artery",
         "rawType": "int64",
         "type": "integer"
        },
        {
         "name": "Condition_Feedr",
         "rawType": "int64",
         "type": "integer"
        },
        {
         "name": "Condition_Norm",
         "rawType": "int64",
         "type": "integer"
        },
        {
         "name": "Condition_RRNn",
         "rawType": "int64",
         "type": "integer"
        },
        {
         "name": "Condition_RRAn",
         "rawType": "int64",
         "type": "integer"
        },
        {
         "name": "Condition_PosN",
         "rawType": "int64",
         "type": "integer"
        },
        {
         "name": "Condition_PosA",
         "rawType": "int64",
         "type": "integer"
        },
        {
         "name": "Condition_RRNe",
         "rawType": "int64",
         "type": "integer"
        },
        {
         "name": "Condition_RRAe",
         "rawType": "int64",
         "type": "integer"
        },
        {
         "name": "BldgType_2fmCon",
         "rawType": "int64",
         "type": "integer"
        },
        {
         "name": "BldgType_Duplex",
         "rawType": "int64",
         "type": "integer"
        },
        {
         "name": "BldgType_Twnhs",
         "rawType": "int64",
         "type": "integer"
        },
        {
         "name": "BldgType_TwnhsE",
         "rawType": "int64",
         "type": "integer"
        },
        {
         "name": "HouseStyle_1.5Unf",
         "rawType": "int64",
         "type": "integer"
        },
        {
         "name": "HouseStyle_1Story",
         "rawType": "int64",
         "type": "integer"
        },
        {
         "name": "HouseStyle_2.5Fin",
         "rawType": "int64",
         "type": "integer"
        },
        {
         "name": "HouseStyle_2.5Unf",
         "rawType": "int64",
         "type": "integer"
        },
        {
         "name": "HouseStyle_2Story",
         "rawType": "int64",
         "type": "integer"
        },
        {
         "name": "HouseStyle_SFoyer",
         "rawType": "int64",
         "type": "integer"
        },
        {
         "name": "HouseStyle_SLvl",
         "rawType": "int64",
         "type": "integer"
        },
        {
         "name": "Exterior_AsbShng",
         "rawType": "int64",
         "type": "integer"
        },
        {
         "name": "Exterior_AsphShn",
         "rawType": "int64",
         "type": "integer"
        },
        {
         "name": "Exterior_BrkComm",
         "rawType": "int64",
         "type": "integer"
        },
        {
         "name": "Exterior_BrkFace",
         "rawType": "int64",
         "type": "integer"
        },
        {
         "name": "Exterior_CBlock",
         "rawType": "int64",
         "type": "integer"
        },
        {
         "name": "Exterior_CemntBd",
         "rawType": "int64",
         "type": "integer"
        },
        {
         "name": "Exterior_HdBoard",
         "rawType": "int64",
         "type": "integer"
        },
        {
         "name": "Exterior_ImStucc",
         "rawType": "int64",
         "type": "integer"
        },
        {
         "name": "Exterior_MetalSd",
         "rawType": "int64",
         "type": "integer"
        },
        {
         "name": "Exterior_Other",
         "rawType": "int64",
         "type": "integer"
        },
        {
         "name": "Exterior_Plywood",
         "rawType": "int64",
         "type": "integer"
        },
        {
         "name": "Exterior_PreCast",
         "rawType": "int64",
         "type": "integer"
        },
        {
         "name": "Exterior_Stone",
         "rawType": "int64",
         "type": "integer"
        },
        {
         "name": "Exterior_Stucco",
         "rawType": "int64",
         "type": "integer"
        },
        {
         "name": "Exterior_VinylSd",
         "rawType": "int64",
         "type": "integer"
        },
        {
         "name": "Exterior_Wd Sdng",
         "rawType": "int64",
         "type": "integer"
        },
        {
         "name": "Exterior_WdShing",
         "rawType": "int64",
         "type": "integer"
        },
        {
         "name": "RoofStyle_Flat",
         "rawType": "int64",
         "type": "integer"
        },
        {
         "name": "RoofStyle_Gable",
         "rawType": "int64",
         "type": "integer"
        },
        {
         "name": "RoofStyle_Gambrel",
         "rawType": "int64",
         "type": "integer"
        },
        {
         "name": "RoofStyle_Hip",
         "rawType": "int64",
         "type": "integer"
        },
        {
         "name": "RoofStyle_Mansard",
         "rawType": "int64",
         "type": "integer"
        },
        {
         "name": "RoofStyle_Shed",
         "rawType": "int64",
         "type": "integer"
        },
        {
         "name": "RoofMatl_ClyTile",
         "rawType": "int64",
         "type": "integer"
        },
        {
         "name": "RoofMatl_CompShg",
         "rawType": "int64",
         "type": "integer"
        },
        {
         "name": "RoofMatl_Membran",
         "rawType": "int64",
         "type": "integer"
        },
        {
         "name": "RoofMatl_Metal",
         "rawType": "int64",
         "type": "integer"
        },
        {
         "name": "RoofMatl_Roll",
         "rawType": "int64",
         "type": "integer"
        },
        {
         "name": "RoofMatl_Tar&Grv",
         "rawType": "int64",
         "type": "integer"
        },
        {
         "name": "RoofMatl_WdShake",
         "rawType": "int64",
         "type": "integer"
        },
        {
         "name": "RoofMatl_WdShngl",
         "rawType": "int64",
         "type": "integer"
        },
        {
         "name": "MasVnrType_BrkCmn",
         "rawType": "int64",
         "type": "integer"
        },
        {
         "name": "MasVnrType_BrkFace",
         "rawType": "int64",
         "type": "integer"
        },
        {
         "name": "MasVnrType_None",
         "rawType": "int64",
         "type": "integer"
        },
        {
         "name": "MasVnrType_Stone",
         "rawType": "int64",
         "type": "integer"
        },
        {
         "name": "ExteriorRating",
         "rawType": "int64",
         "type": "integer"
        },
        {
         "name": "BasementRating",
         "rawType": "int64",
         "type": "integer"
        },
        {
         "name": "Foundation_BrkTil",
         "rawType": "int64",
         "type": "integer"
        },
        {
         "name": "Foundation_CBlock",
         "rawType": "int64",
         "type": "integer"
        },
        {
         "name": "Foundation_PConc",
         "rawType": "int64",
         "type": "integer"
        },
        {
         "name": "Foundation_Slab",
         "rawType": "int64",
         "type": "integer"
        },
        {
         "name": "Foundation_Stone",
         "rawType": "int64",
         "type": "integer"
        },
        {
         "name": "Foundation_Wood",
         "rawType": "int64",
         "type": "integer"
        },
        {
         "name": "Heating_Floor",
         "rawType": "int64",
         "type": "integer"
        },
        {
         "name": "Heating_GasA",
         "rawType": "int64",
         "type": "integer"
        },
        {
         "name": "Heating_GasW",
         "rawType": "int64",
         "type": "integer"
        },
        {
         "name": "Heating_Grav",
         "rawType": "int64",
         "type": "integer"
        },
        {
         "name": "Heating_OthW",
         "rawType": "int64",
         "type": "integer"
        },
        {
         "name": "Heating_Wall",
         "rawType": "int64",
         "type": "integer"
        },
        {
         "name": "GarageType_2Types",
         "rawType": "int64",
         "type": "integer"
        },
        {
         "name": "GarageType_Attchd",
         "rawType": "int64",
         "type": "integer"
        },
        {
         "name": "GarageType_Basment",
         "rawType": "int64",
         "type": "integer"
        },
        {
         "name": "GarageType_BuiltIn",
         "rawType": "int64",
         "type": "integer"
        },
        {
         "name": "GarageType_CarPort",
         "rawType": "int64",
         "type": "integer"
        },
        {
         "name": "GarageType_Detchd",
         "rawType": "int64",
         "type": "integer"
        },
        {
         "name": "GarageType_NA",
         "rawType": "int64",
         "type": "integer"
        },
        {
         "name": "GarageRating",
         "rawType": "int64",
         "type": "integer"
        },
        {
         "name": "MiscFeature_Gar2",
         "rawType": "int64",
         "type": "integer"
        },
        {
         "name": "MiscFeature_NA",
         "rawType": "int64",
         "type": "integer"
        },
        {
         "name": "MiscFeature_Othr",
         "rawType": "int64",
         "type": "integer"
        },
        {
         "name": "MiscFeature_Shed",
         "rawType": "int64",
         "type": "integer"
        },
        {
         "name": "MiscFeature_TenC",
         "rawType": "int64",
         "type": "integer"
        },
        {
         "name": "SaleType_COD",
         "rawType": "int64",
         "type": "integer"
        },
        {
         "name": "SaleType_CWD",
         "rawType": "int64",
         "type": "integer"
        },
        {
         "name": "SaleType_Con",
         "rawType": "int64",
         "type": "integer"
        },
        {
         "name": "SaleType_ConLD",
         "rawType": "int64",
         "type": "integer"
        },
        {
         "name": "SaleType_ConLI",
         "rawType": "int64",
         "type": "integer"
        },
        {
         "name": "SaleType_ConLw",
         "rawType": "int64",
         "type": "integer"
        },
        {
         "name": "SaleType_New",
         "rawType": "int64",
         "type": "integer"
        },
        {
         "name": "SaleType_Oth",
         "rawType": "int64",
         "type": "integer"
        },
        {
         "name": "SaleType_WD",
         "rawType": "int64",
         "type": "integer"
        },
        {
         "name": "SaleCondition_Abnorml",
         "rawType": "int64",
         "type": "integer"
        },
        {
         "name": "SaleCondition_AdjLand",
         "rawType": "int64",
         "type": "integer"
        },
        {
         "name": "SaleCondition_Alloca",
         "rawType": "int64",
         "type": "integer"
        },
        {
         "name": "SaleCondition_Family",
         "rawType": "int64",
         "type": "integer"
        },
        {
         "name": "SaleCondition_Normal",
         "rawType": "int64",
         "type": "integer"
        },
        {
         "name": "SaleCondition_Partial",
         "rawType": "int64",
         "type": "integer"
        }
       ],
       "ref": "84ac5be4-ffa8-4bc4-92bf-ae8c8898033d",
       "rows": [
        [
         "0",
         "0",
         "0",
         "1",
         "60",
         "0",
         "0",
         "1",
         "0",
         "0",
         "65",
         "8450",
         "0",
         "1",
         "0",
         "0",
         "1",
         "3",
         "3",
         "1",
         "0",
         "0",
         "0",
         "0",
         "0",
         "1",
         "2",
         "7",
         "5",
         "2003",
         "2003",
         "196",
         "706",
         "0",
         "150",
         "856",
         "4",
         "1",
         "0",
         "0",
         "0",
         "0",
         "1",
         "856",
         "854",
         "0",
         "1710",
         "1",
         "0",
         "2",
         "1",
         "3",
         "1",
         "3",
         "8",
         "7",
         "0",
         "0",
         "2003",
         "2",
         "2",
         "548",
         "1",
         "0",
         "61",
         "0",
         "0",
         "0",
         "0",
         "0",
         "0",
         "0",
         "2",
         "2008",
         "208500",
         "0",
         "1",
         "0",
         "0",
         "0",
         "0",
         "0",
         "0",
         "0",
         "0",
         "0",
         "0",
         "0",
         "2",
         "0",
         "0",
         "0",
         "0",
         "0",
         "0",
         "0",
         "0",
         "0",
         "0",
         "0",
         "0",
         "0",
         "0",
         "1",
         "0",
         "0",
         "0",
         "0",
         "0",
         "0",
         "0",
         "0",
         "0",
         "0",
         "0",
         "0",
         "0",
         "0",
         "0",
         "0",
         "2",
         "0",
         "0",
         "0",
         "1",
         "0",
         "0",
         "0",
         "0",
         "0",
         "1",
         "0",
         "0",
         "0",
         "0",
         "0",
         "0",
         "0",
         "1",
         "0",
         "0",
         "7",
         "7",
         "0",
         "0",
         "1",
         "0",
         "0",
         "0",
         "0",
         "1",
         "0",
         "0",
         "0",
         "0",
         "0",
         "1",
         "0",
         "0",
         "0",
         "0",
         "0",
         "6",
         "0",
         "1",
         "0",
         "0",
         "0",
         "0",
         "0",
         "0",
         "0",
         "0",
         "0",
         "0",
         "0",
         "1",
         "0",
         "0",
         "0",
         "0",
         "1",
         "0"
        ],
        [
         "1",
         "1",
         "1",
         "2",
         "20",
         "0",
         "0",
         "1",
         "0",
         "0",
         "80",
         "9600",
         "0",
         "1",
         "0",
         "0",
         "1",
         "3",
         "3",
         "1",
         "0",
         "0",
         "0",
         "1",
         "0",
         "0",
         "2",
         "6",
         "8",
         "1976",
         "1976",
         "0",
         "978",
         "0",
         "284",
         "1262",
         "4",
         "1",
         "0",
         "0",
         "0",
         "0",
         "1",
         "1262",
         "0",
         "0",
         "1262",
         "0",
         "1",
         "2",
         "0",
         "3",
         "1",
         "2",
         "6",
         "7",
         "1",
         "3",
         "1976",
         "2",
         "2",
         "460",
         "1",
         "298",
         "0",
         "0",
         "0",
         "0",
         "0",
         "0",
         "0",
         "0",
         "5",
         "2007",
         "181500",
         "0",
         "0",
         "0",
         "0",
         "0",
         "0",
         "0",
         "0",
         "1",
         "0",
         "0",
         "0",
         "1",
         "1",
         "0",
         "0",
         "0",
         "0",
         "0",
         "0",
         "0",
         "0",
         "0",
         "0",
         "0",
         "1",
         "0",
         "0",
         "0",
         "0",
         "0",
         "0",
         "0",
         "0",
         "0",
         "0",
         "0",
         "0",
         "0",
         "2",
         "0",
         "0",
         "0",
         "0",
         "0",
         "0",
         "0",
         "0",
         "0",
         "1",
         "0",
         "0",
         "0",
         "0",
         "0",
         "1",
         "0",
         "0",
         "0",
         "0",
         "0",
         "0",
         "0",
         "0",
         "1",
         "0",
         "6",
         "7",
         "0",
         "1",
         "0",
         "0",
         "0",
         "0",
         "0",
         "1",
         "0",
         "0",
         "0",
         "0",
         "0",
         "1",
         "0",
         "0",
         "0",
         "0",
         "0",
         "6",
         "0",
         "1",
         "0",
         "0",
         "0",
         "0",
         "0",
         "0",
         "0",
         "0",
         "0",
         "0",
         "0",
         "1",
         "0",
         "0",
         "0",
         "0",
         "1",
         "0"
        ],
        [
         "2",
         "2",
         "2",
         "3",
         "60",
         "0",
         "0",
         "1",
         "0",
         "0",
         "68",
         "11250",
         "0",
         "1",
         "0",
         "0",
         "1",
         "2",
         "3",
         "1",
         "0",
         "0",
         "0",
         "0",
         "0",
         "1",
         "2",
         "7",
         "5",
         "2001",
         "2002",
         "162",
         "486",
         "0",
         "434",
         "920",
         "4",
         "1",
         "0",
         "0",
         "0",
         "0",
         "1",
         "920",
         "866",
         "0",
         "1786",
         "1",
         "0",
         "2",
         "1",
         "3",
         "1",
         "3",
         "6",
         "7",
         "1",
         "3",
         "2001",
         "2",
         "2",
         "608",
         "1",
         "0",
         "42",
         "0",
         "0",
         "0",
         "0",
         "0",
         "0",
         "0",
         "9",
         "2008",
         "223500",
         "0",
         "1",
         "0",
         "0",
         "0",
         "0",
         "0",
         "0",
         "0",
         "0",
         "0",
         "0",
         "0",
         "2",
         "0",
         "0",
         "0",
         "0",
         "0",
         "0",
         "0",
         "0",
         "0",
         "0",
         "0",
         "0",
         "0",
         "0",
         "1",
         "0",
         "0",
         "0",
         "0",
         "0",
         "0",
         "0",
         "0",
         "0",
         "0",
         "0",
         "0",
         "0",
         "0",
         "0",
         "0",
         "2",
         "0",
         "0",
         "0",
         "1",
         "0",
         "0",
         "0",
         "0",
         "0",
         "1",
         "0",
         "0",
         "0",
         "0",
         "0",
         "0",
         "0",
         "1",
         "0",
         "0",
         "7",
         "7",
         "0",
         "0",
         "1",
         "0",
         "0",
         "0",
         "0",
         "1",
         "0",
         "0",
         "0",
         "0",
         "0",
         "1",
         "0",
         "0",
         "0",
         "0",
         "0",
         "6",
         "0",
         "1",
         "0",
         "0",
         "0",
         "0",
         "0",
         "0",
         "0",
         "0",
         "0",
         "0",
         "0",
         "1",
         "0",
         "0",
         "0",
         "0",
         "1",
         "0"
        ],
        [
         "3",
         "3",
         "3",
         "4",
         "70",
         "0",
         "0",
         "1",
         "0",
         "0",
         "60",
         "9550",
         "0",
         "1",
         "0",
         "0",
         "1",
         "2",
         "3",
         "1",
         "0",
         "1",
         "0",
         "0",
         "0",
         "0",
         "2",
         "7",
         "5",
         "1915",
         "1970",
         "0",
         "216",
         "0",
         "540",
         "756",
         "3",
         "1",
         "0",
         "0",
         "0",
         "0",
         "1",
         "961",
         "756",
         "0",
         "1717",
         "1",
         "0",
         "1",
         "0",
         "3",
         "1",
         "3",
         "7",
         "7",
         "1",
         "4",
         "1998",
         "1",
         "3",
         "642",
         "1",
         "0",
         "35",
         "272",
         "0",
         "0",
         "0",
         "0",
         "0",
         "0",
         "2",
         "2006",
         "140000",
         "0",
         "0",
         "0",
         "0",
         "0",
         "0",
         "0",
         "0",
         "1",
         "0",
         "0",
         "0",
         "0",
         "2",
         "0",
         "0",
         "0",
         "0",
         "0",
         "0",
         "0",
         "0",
         "0",
         "0",
         "0",
         "0",
         "0",
         "0",
         "1",
         "0",
         "0",
         "0",
         "0",
         "0",
         "0",
         "0",
         "0",
         "0",
         "0",
         "0",
         "0",
         "0",
         "0",
         "0",
         "0",
         "0",
         "1",
         "0",
         "0",
         "1",
         "0",
         "0",
         "0",
         "0",
         "0",
         "1",
         "0",
         "0",
         "0",
         "0",
         "0",
         "0",
         "0",
         "0",
         "1",
         "0",
         "6",
         "7",
         "1",
         "0",
         "0",
         "0",
         "0",
         "0",
         "0",
         "1",
         "0",
         "0",
         "0",
         "0",
         "0",
         "0",
         "0",
         "0",
         "0",
         "1",
         "0",
         "6",
         "0",
         "1",
         "0",
         "0",
         "0",
         "0",
         "0",
         "0",
         "0",
         "0",
         "0",
         "0",
         "0",
         "1",
         "1",
         "0",
         "0",
         "0",
         "0",
         "0"
        ],
        [
         "4",
         "4",
         "4",
         "5",
         "60",
         "0",
         "0",
         "1",
         "0",
         "0",
         "84",
         "14260",
         "0",
         "1",
         "0",
         "0",
         "1",
         "2",
         "3",
         "1",
         "0",
         "0",
         "0",
         "1",
         "0",
         "0",
         "2",
         "8",
         "5",
         "2000",
         "2000",
         "350",
         "655",
         "0",
         "490",
         "1145",
         "4",
         "1",
         "0",
         "0",
         "0",
         "0",
         "1",
         "1145",
         "1053",
         "0",
         "2198",
         "1",
         "0",
         "2",
         "1",
         "4",
         "1",
         "3",
         "9",
         "7",
         "1",
         "3",
         "2000",
         "2",
         "3",
         "836",
         "1",
         "192",
         "84",
         "0",
         "0",
         "0",
         "0",
         "0",
         "0",
         "0",
         "12",
         "2008",
         "250000",
         "0",
         "0",
         "0",
         "0",
         "0",
         "0",
         "0",
         "0",
         "1",
         "0",
         "0",
         "0",
         "0",
         "2",
         "0",
         "0",
         "0",
         "0",
         "0",
         "0",
         "0",
         "0",
         "0",
         "0",
         "0",
         "0",
         "0",
         "0",
         "1",
         "0",
         "0",
         "0",
         "0",
         "0",
         "0",
         "0",
         "0",
         "0",
         "0",
         "0",
         "0",
         "0",
         "0",
         "0",
         "0",
         "2",
         "0",
         "0",
         "0",
         "1",
         "0",
         "0",
         "0",
         "0",
         "0",
         "1",
         "0",
         "0",
         "0",
         "0",
         "0",
         "0",
         "0",
         "1",
         "0",
         "0",
         "7",
         "7",
         "0",
         "0",
         "1",
         "0",
         "0",
         "0",
         "0",
         "1",
         "0",
         "0",
         "0",
         "0",
         "0",
         "1",
         "0",
         "0",
         "0",
         "0",
         "0",
         "6",
         "0",
         "1",
         "0",
         "0",
         "0",
         "0",
         "0",
         "0",
         "0",
         "0",
         "0",
         "0",
         "0",
         "1",
         "0",
         "0",
         "0",
         "0",
         "1",
         "0"
        ]
       ],
       "shape": {
        "columns": 182,
        "rows": 5
       }
      },
      "text/html": [
       "<div>\n",
       "<style scoped>\n",
       "    .dataframe tbody tr th:only-of-type {\n",
       "        vertical-align: middle;\n",
       "    }\n",
       "\n",
       "    .dataframe tbody tr th {\n",
       "        vertical-align: top;\n",
       "    }\n",
       "\n",
       "    .dataframe thead th {\n",
       "        text-align: right;\n",
       "    }\n",
       "</style>\n",
       "<table border=\"1\" class=\"dataframe\">\n",
       "  <thead>\n",
       "    <tr style=\"text-align: right;\">\n",
       "      <th></th>\n",
       "      <th>Unnamed: 0.1</th>\n",
       "      <th>Unnamed: 0</th>\n",
       "      <th>Id</th>\n",
       "      <th>MSSubClass</th>\n",
       "      <th>MSZoning_FV</th>\n",
       "      <th>MSZoning_RH</th>\n",
       "      <th>MSZoning_RL</th>\n",
       "      <th>MSZoning_RM</th>\n",
       "      <th>MSZoning_nan</th>\n",
       "      <th>LotFrontage</th>\n",
       "      <th>...</th>\n",
       "      <th>SaleType_ConLw</th>\n",
       "      <th>SaleType_New</th>\n",
       "      <th>SaleType_Oth</th>\n",
       "      <th>SaleType_WD</th>\n",
       "      <th>SaleCondition_Abnorml</th>\n",
       "      <th>SaleCondition_AdjLand</th>\n",
       "      <th>SaleCondition_Alloca</th>\n",
       "      <th>SaleCondition_Family</th>\n",
       "      <th>SaleCondition_Normal</th>\n",
       "      <th>SaleCondition_Partial</th>\n",
       "    </tr>\n",
       "  </thead>\n",
       "  <tbody>\n",
       "    <tr>\n",
       "      <th>0</th>\n",
       "      <td>0</td>\n",
       "      <td>0</td>\n",
       "      <td>1</td>\n",
       "      <td>60</td>\n",
       "      <td>0</td>\n",
       "      <td>0</td>\n",
       "      <td>1</td>\n",
       "      <td>0</td>\n",
       "      <td>0</td>\n",
       "      <td>65</td>\n",
       "      <td>...</td>\n",
       "      <td>0</td>\n",
       "      <td>0</td>\n",
       "      <td>0</td>\n",
       "      <td>1</td>\n",
       "      <td>0</td>\n",
       "      <td>0</td>\n",
       "      <td>0</td>\n",
       "      <td>0</td>\n",
       "      <td>1</td>\n",
       "      <td>0</td>\n",
       "    </tr>\n",
       "    <tr>\n",
       "      <th>1</th>\n",
       "      <td>1</td>\n",
       "      <td>1</td>\n",
       "      <td>2</td>\n",
       "      <td>20</td>\n",
       "      <td>0</td>\n",
       "      <td>0</td>\n",
       "      <td>1</td>\n",
       "      <td>0</td>\n",
       "      <td>0</td>\n",
       "      <td>80</td>\n",
       "      <td>...</td>\n",
       "      <td>0</td>\n",
       "      <td>0</td>\n",
       "      <td>0</td>\n",
       "      <td>1</td>\n",
       "      <td>0</td>\n",
       "      <td>0</td>\n",
       "      <td>0</td>\n",
       "      <td>0</td>\n",
       "      <td>1</td>\n",
       "      <td>0</td>\n",
       "    </tr>\n",
       "    <tr>\n",
       "      <th>2</th>\n",
       "      <td>2</td>\n",
       "      <td>2</td>\n",
       "      <td>3</td>\n",
       "      <td>60</td>\n",
       "      <td>0</td>\n",
       "      <td>0</td>\n",
       "      <td>1</td>\n",
       "      <td>0</td>\n",
       "      <td>0</td>\n",
       "      <td>68</td>\n",
       "      <td>...</td>\n",
       "      <td>0</td>\n",
       "      <td>0</td>\n",
       "      <td>0</td>\n",
       "      <td>1</td>\n",
       "      <td>0</td>\n",
       "      <td>0</td>\n",
       "      <td>0</td>\n",
       "      <td>0</td>\n",
       "      <td>1</td>\n",
       "      <td>0</td>\n",
       "    </tr>\n",
       "    <tr>\n",
       "      <th>3</th>\n",
       "      <td>3</td>\n",
       "      <td>3</td>\n",
       "      <td>4</td>\n",
       "      <td>70</td>\n",
       "      <td>0</td>\n",
       "      <td>0</td>\n",
       "      <td>1</td>\n",
       "      <td>0</td>\n",
       "      <td>0</td>\n",
       "      <td>60</td>\n",
       "      <td>...</td>\n",
       "      <td>0</td>\n",
       "      <td>0</td>\n",
       "      <td>0</td>\n",
       "      <td>1</td>\n",
       "      <td>1</td>\n",
       "      <td>0</td>\n",
       "      <td>0</td>\n",
       "      <td>0</td>\n",
       "      <td>0</td>\n",
       "      <td>0</td>\n",
       "    </tr>\n",
       "    <tr>\n",
       "      <th>4</th>\n",
       "      <td>4</td>\n",
       "      <td>4</td>\n",
       "      <td>5</td>\n",
       "      <td>60</td>\n",
       "      <td>0</td>\n",
       "      <td>0</td>\n",
       "      <td>1</td>\n",
       "      <td>0</td>\n",
       "      <td>0</td>\n",
       "      <td>84</td>\n",
       "      <td>...</td>\n",
       "      <td>0</td>\n",
       "      <td>0</td>\n",
       "      <td>0</td>\n",
       "      <td>1</td>\n",
       "      <td>0</td>\n",
       "      <td>0</td>\n",
       "      <td>0</td>\n",
       "      <td>0</td>\n",
       "      <td>1</td>\n",
       "      <td>0</td>\n",
       "    </tr>\n",
       "  </tbody>\n",
       "</table>\n",
       "<p>5 rows × 182 columns</p>\n",
       "</div>"
      ],
      "text/plain": [
       "   Unnamed: 0.1  Unnamed: 0  Id  MSSubClass  MSZoning_FV  MSZoning_RH  \\\n",
       "0             0           0   1          60            0            0   \n",
       "1             1           1   2          20            0            0   \n",
       "2             2           2   3          60            0            0   \n",
       "3             3           3   4          70            0            0   \n",
       "4             4           4   5          60            0            0   \n",
       "\n",
       "   MSZoning_RL  MSZoning_RM  MSZoning_nan  LotFrontage  ...  SaleType_ConLw  \\\n",
       "0            1            0             0           65  ...               0   \n",
       "1            1            0             0           80  ...               0   \n",
       "2            1            0             0           68  ...               0   \n",
       "3            1            0             0           60  ...               0   \n",
       "4            1            0             0           84  ...               0   \n",
       "\n",
       "   SaleType_New  SaleType_Oth  SaleType_WD  SaleCondition_Abnorml  \\\n",
       "0             0             0            1                      0   \n",
       "1             0             0            1                      0   \n",
       "2             0             0            1                      0   \n",
       "3             0             0            1                      1   \n",
       "4             0             0            1                      0   \n",
       "\n",
       "   SaleCondition_AdjLand  SaleCondition_Alloca  SaleCondition_Family  \\\n",
       "0                      0                     0                     0   \n",
       "1                      0                     0                     0   \n",
       "2                      0                     0                     0   \n",
       "3                      0                     0                     0   \n",
       "4                      0                     0                     0   \n",
       "\n",
       "   SaleCondition_Normal  SaleCondition_Partial  \n",
       "0                     1                      0  \n",
       "1                     1                      0  \n",
       "2                     1                      0  \n",
       "3                     0                      0  \n",
       "4                     1                      0  \n",
       "\n",
       "[5 rows x 182 columns]"
      ]
     },
     "execution_count": 5,
     "metadata": {},
     "output_type": "execute_result"
    }
   ],
   "source": [
    "# importing data\n",
    "df=pd.read_csv(\"data/train.csv\")\n",
    "df.head()"
   ]
  },
  {
   "cell_type": "code",
   "execution_count": null,
   "id": "cbdf0d7b",
   "metadata": {},
   "outputs": [],
   "source": [
    "# Select numerical columns for correlation analysis\n",
    "numerical_cols = df.select_dtypes(include=[np.number]).columns\n",
    "corr_matrix = df[numerical_cols].corr()\n",
    "\n",
    "# Top 20 features correlated with SalePrice\n",
    "top_corr_features = corr_matrix['SalePrice'].sort_values(ascending=False)[1:21]\n",
    "\n",
    "# Plot top correlated features\n",
    "plt.figure(figsize=(10, 8))\n",
    "sns.barplot(x=top_corr_features.values, y=top_corr_features.index, palette='viridis')\n",
    "plt.title('Top 20 Features Correlated with SalePrice')\n",
    "plt.xlabel('Correlation Coefficient')\n",
    "plt.show()\n",
    "\n",
    "# Heatmap of top correlated features\n",
    "top_features = top_corr_features.index.tolist() + ['SalePrice']\n",
    "plt.figure(figsize=(12, 10))\n",
    "sns.heatmap(df[top_features].corr(), annot=True, cmap='coolwarm', fmt='.2f')\n",
    "plt.title('Correlation Heatmap of Top Features')\n",
    "plt.show()"
   ]
  },
  {
   "cell_type": "code",
   "execution_count": 8,
   "id": "28eb709b",
   "metadata": {},
   "outputs": [
    {
     "name": "stderr",
     "output_type": "stream",
     "text": [
      "C:\\Users\\Chetan\\AppData\\Local\\Temp\\ipykernel_20216\\4126233663.py:22: FutureWarning: \n",
      "\n",
      "Passing `palette` without assigning `hue` is deprecated and will be removed in v0.14.0. Assign the `y` variable to `hue` and set `legend=False` for the same effect.\n",
      "\n",
      "  sns.barplot(x='Importance', y='Feature',\n"
     ]
    },
    {
     "data": {
      "image/png": "[encoded data removed]",
      "text/plain": [
       "<Figure size 1200x800 with 1 Axes>"
      ]
     },
     "metadata": {},
     "output_type": "display_data"
    }
   ],
   "source": [
    "# Prepare data for feature importance\n",
    "X = df.drop(['Id', 'SalePrice'], axis=1)\n",
    "y = df['SalePrice']\n",
    "\n",
    "# One-hot encode categorical variables (if any non-binary categoricals exist)\n",
    "X = pd.get_dummies(X)\n",
    "\n",
    "# Split data\n",
    "X_train, X_test, y_train, y_test = train_test_split(X, y, test_size=0.2, random_state=42)\n",
    "\n",
    "# Train Random Forest model\n",
    "rf = RandomForestRegressor(n_estimators=100, random_state=42)\n",
    "rf.fit(X_train, y_train)\n",
    "\n",
    "# Get feature importances\n",
    "feature_importances = pd.DataFrame({'Feature': X.columns, \n",
    "                                  'Importance': rf.feature_importances_})\n",
    "feature_importances = feature_importances.sort_values('Importance', ascending=False)\n",
    "\n",
    "# Plot top 20 important features\n",
    "plt.figure(figsize=(12, 8))\n",
    "sns.barplot(x='Importance', y='Feature', \n",
    "            data=feature_importances.head(20), palette='viridis')\n",
    "plt.title('Top 20 Feature Importances from Random Forest')\n",
    "plt.xlabel('Importance Score')\n",
    "plt.ylabel('Feature')\n",
    "plt.show()"
   ]
  },
  {
   "cell_type": "code",
   "execution_count": 13,
   "id": "2794005f",
   "metadata": {},
   "outputs": [
    {
     "name": "stdout",
     "output_type": "stream",
     "text": [
      "Mean Absolute Error: $23,243.57\n",
      "MAE represents 12.87% of the average home price\n"
     ]
    },
    {
     "data": {
      "image/png": "[encoded data removed]",
      "text/plain": [
       "<Figure size 1200x800 with 1 Axes>"
      ]
     },
     "metadata": {},
     "output_type": "display_data"
    }
   ],
   "source": [
    "# Separate features and target\n",
    "X = df.drop('SalePrice', axis=1)\n",
    "y = df['SalePrice']\n",
    "\n",
    "# Split data into training and testing sets\n",
    "X_train, X_test, y_train, y_test = train_test_split(X, y, test_size=0.2, random_state=42)\n",
    "\n",
    "# Create and train the decision tree regressor\n",
    "tree_model = DecisionTreeRegressor(max_depth=6, random_state=42)\n",
    "tree_model.fit(X_train, y_train)\n",
    "\n",
    "# Make predictions\n",
    "y_pred = tree_model.predict(X_test)\n",
    "\n",
    "# Evaluate the model\n",
    "mae = mean_absolute_error(y_test, y_pred)\n",
    "print(f\"Mean Absolute Error: ${mae:,.2f}\")\n",
    "\n",
    "avg_price = df['SalePrice'].mean()\n",
    "error_percentage = (23243.57 / avg_price) * 100\n",
    "print(f\"MAE represents {error_percentage:.2f}% of the average home price\")\n",
    "\n",
    "# Visualize the decision tree\n",
    "plt.figure(figsize=(12, 8))\n",
    "plot_tree(tree_model, feature_names=X.columns, filled=True, rounded=True)\n",
    "plt.title(\"House Price Prediction Decision Tree\")\n",
    "plt.show()"
   ]
  },
  {
   "cell_type": "code",
   "execution_count": 16,
   "id": "8e272ecf",
   "metadata": {},
   "outputs": [
    {
     "data": {
      "text/plain": [
       "['DecisionTrees.joblib']"
      ]
     },
     "execution_count": 16,
     "metadata": {},
     "output_type": "execute_result"
    }
   ],
   "source": [
    "import joblib\n",
    "\n",
    "joblib.dump(tree_model, 'DecisionTrees.joblib')"
   ]
  },
  {
   "cell_type": "markdown",
   "id": "401f67a5",
   "metadata": {},
   "source": [
    "### Random Forest"
   ]
  }
 ],
 "metadata": {
  "kernelspec": {
   "display_name": "Python 3",
   "language": "python",
   "name": "python3"
  },
  "language_info": {
   "codemirror_mode": {
    "name": "ipython",
    "version": 3
   },
   "file_extension": ".py",
   "mimetype": "text/x-python",
   "name": "python",
   "nbconvert_exporter": "python",
   "pygments_lexer": "ipython3",
   "version": "3.13.0"
  }
 },
 "nbformat": 4,
 "nbformat_minor": 5
}
